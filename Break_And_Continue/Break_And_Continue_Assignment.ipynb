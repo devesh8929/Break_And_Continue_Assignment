{
  "cells": [
    {
      "cell_type": "code",
      "source": [
        "#Write a program to print numbers from 1 to 10, but stop if the number is 5.\n",
        "for x in range(1,11):\n",
        "  if x == 5:\n",
        "    break\n",
        "  else:\n",
        "    print(x,end=' ')"
      ],
      "metadata": {
        "colab": {
          "base_uri": "https://localhost:8080/"
        },
        "id": "lVHyXELc-tD9",
        "outputId": "b4c77be6-62b4-404a-b30e-992987632022"
      },
      "execution_count": 19,
      "outputs": [
        {
          "output_type": "stream",
          "name": "stdout",
          "text": [
            "1 2 3 4 "
          ]
        }
      ]
    },
    {
      "cell_type": "code",
      "source": [
        "#Write a program to iterate through a list and stop when encountering a specific element.\n",
        "specific_element = '@'\n",
        "li = ['devesh','raj','1223','@','shubham',1223]\n",
        "for x in li:\n",
        "  if x == '@':\n",
        "    break\n",
        "  else:\n",
        "    print(f\"[{x}],\",end=' ')"
      ],
      "metadata": {
        "colab": {
          "base_uri": "https://localhost:8080/"
        },
        "id": "vV3p9vVN_xUB",
        "outputId": "820da4b4-e866-4b36-aaa7-3bb31532b565"
      },
      "execution_count": 18,
      "outputs": [
        {
          "output_type": "stream",
          "name": "stdout",
          "text": [
            "[devesh], [raj], [1223], "
          ]
        }
      ]
    },
    {
      "cell_type": "code",
      "source": [
        "#Write a program to skip printing even numbers from 1 to 10.\n",
        "for x in range(1,11):\n",
        "  if x%2 == 0:\n",
        "    continue\n",
        "  print(x,end=' ')"
      ],
      "metadata": {
        "colab": {
          "base_uri": "https://localhost:8080/"
        },
        "id": "g5pFcykaAZjZ",
        "outputId": "45b80bfa-f437-4eda-f6d8-26c51d0a6bd4"
      },
      "execution_count": 20,
      "outputs": [
        {
          "output_type": "stream",
          "name": "stdout",
          "text": [
            "1 3 5 7 9 "
          ]
        }
      ]
    },
    {
      "cell_type": "code",
      "source": [
        "#Write a program to print numbers from 0 to 9 using range.\n",
        "for x in range(0,10):\n",
        "  print(x,end=' ')"
      ],
      "metadata": {
        "colab": {
          "base_uri": "https://localhost:8080/"
        },
        "id": "VKzJKAakBLpg",
        "outputId": "88f5e809-7090-48b1-ac8f-221e50301595"
      },
      "execution_count": 21,
      "outputs": [
        {
          "output_type": "stream",
          "name": "stdout",
          "text": [
            "0 1 2 3 4 5 6 7 8 9 "
          ]
        }
      ]
    },
    {
      "cell_type": "code",
      "source": [
        "#Write a program to print multiplication tables from 1 to 5, but stop after the first table is printed for each number.\n",
        "mul = int(input(\"Enter a number to print it's multiplication table\"))\n",
        "for x in range(1,6):\n",
        "  if x > 1:\n",
        "    break\n",
        "  else:\n",
        "    for y in range(1,11):\n",
        "      print(f\"{mul} X {y} = {mul*(y)}\")"
      ],
      "metadata": {
        "colab": {
          "base_uri": "https://localhost:8080/"
        },
        "id": "0vm-J62WBalo",
        "outputId": "727653d9-9a2e-4bd3-b9e6-e87fb5657c66"
      },
      "execution_count": 27,
      "outputs": [
        {
          "output_type": "stream",
          "name": "stdout",
          "text": [
            "Enter a number to print it's multiplication table5\n",
            "5 X 1 = 5\n",
            "5 X 2 = 10\n",
            "5 X 3 = 15\n",
            "5 X 4 = 20\n",
            "5 X 5 = 25\n",
            "5 X 6 = 30\n",
            "5 X 7 = 35\n",
            "5 X 8 = 40\n",
            "5 X 9 = 45\n",
            "5 X 10 = 50\n"
          ]
        }
      ]
    },
    {
      "cell_type": "code",
      "source": [
        "#Write a program to skip printing even numbers using a while loop.\n",
        "a = 0\n",
        "while(a<10):\n",
        "  if a % 2 == 0:\n",
        "    a += 1\n",
        "    continue\n",
        "  else:\n",
        "    print(a, end = ' ')\n",
        "    a += 1"
      ],
      "metadata": {
        "colab": {
          "base_uri": "https://localhost:8080/"
        },
        "id": "4cBjCfKaB2Ls",
        "outputId": "36eb8842-0b2d-417d-a218-25b27cbbc4fa"
      },
      "execution_count": 25,
      "outputs": [
        {
          "output_type": "stream",
          "name": "stdout",
          "text": [
            "1 3 5 7 9 "
          ]
        }
      ]
    },
    {
      "cell_type": "code",
      "source": [],
      "metadata": {
        "id": "8tH2itnyCIRz"
      },
      "execution_count": null,
      "outputs": []
    }
  ],
  "metadata": {
    "colab": {
      "provenance": []
    },
    "kernelspec": {
      "display_name": "Python 3",
      "name": "python3"
    },
    "language_info": {
      "name": "python"
    }
  },
  "nbformat": 4,
  "nbformat_minor": 0
}